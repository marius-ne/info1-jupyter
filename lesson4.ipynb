{
 "cells": [
  {
   "cell_type": "code",
   "execution_count": 63,
   "metadata": {
    "collapsed": false,
    "jupyter": {
     "source_hidden": true
    }
   },
   "outputs": [
   ],
   "source": [
    "from random import random, randrange, uniform\n",
    "from math import sin\n",
    "import matplotlib.pyplot as pyplot\n",
    "\n",
    "class Student():\n",
    "    def __init__(self,name: str, mat_num: int):\n",
    "        self.name = name\n",
    "        self.mat_num = mat_num\n",
    "        self.notenschnitt = 4.0\n",
    "        self.freunde = []\n",
    "        self.noten = {\"Mathe1\":2.0,\"Mechanik1\":1.7,\"Einführung in den MB\":4.0}\n",
    "    def add_note(self,fach: str, note: float):\n",
    "        Student.noten[fach] = note\n",
    "    def get_noten(self):\n",
    "        return Student.noten\n",
    "    def add_freund(self, freund):\n",
    "        self.freunde.append(freund)\n",
    "    def get_freunde(self):\n",
    "        return self.freunde\n",
    "    def __repr__(self):\n",
    "        return self.name\n",
    "    \n",
    "class Thermometer():\n",
    "    def get_temp_data(self):\n",
    "        x = [i for i in range(0,100)]\n",
    "        y = [(0.05*i + 15 + uniform(-2,2)) for i in range(90)]\n",
    "        return x,y"
   ]
  },
  {
   "cell_type": "markdown",
   "metadata": {
    "collapsed": false
   },
   "source": [
    "<span style='font-size:large'>**Willkommen zur vierten Stunde!**</span>\n",
    "\n",
    "<span style='font-size:medium'>Heute beschäftigen wir uns mit Klassen, Objekten und objektorientierter Programmierung.</span>\n",
    "\n",
    "<span style='font-size:large'>**Erste Aufgabe:**</span>\n",
    "\n",
    "<span style='font-size:medium'>Erstmal eine Aufgabe zum Warmwerden. Erstelle ein Objekt der Klasse </span><span style='font-size:medium'>**Student**</span><span style='font-size:medium'> und nenne es wie du willst. Die Klasse </span><span style='font-size:medium'>**Student**</span><span style='font-size:medium'> erwartet zwei Argumente, das erste ein String mit dem Namen und das zweite ein Integer mit der Matrikelnummer. Benutze danach type\\(\\) auf deinem Objekt um zu schauen, ob es wirklich ein Student ist.</span>\n",
    "\n",
    "<span style='font-size:medium'>Was spielt hier die Rolle der Variable und was die Rolle des Datentypen?</span>\n"
   ]
  },
  {
   "cell_type": "code",
   "execution_count": 0,
   "metadata": {
    "collapsed": false
   },
   "outputs": [
   ],
   "source": [
   ]
  },
  {
   "cell_type": "markdown",
   "metadata": {
    "collapsed": false
   },
   "source": [
    "<span style='font-size:large'>**Lösung:**</span>  \n",
    "\n"
   ]
  },
  {
   "cell_type": "code",
   "execution_count": 0,
   "metadata": {
    "collapsed": false,
    "jupyter": {
     "source_hidden": true
    }
   },
   "outputs": [
   ],
   "source": [
    "anna = Student(\"anna\",213497)\n",
    "type(anna)"
   ]
  },
  {
   "cell_type": "markdown",
   "metadata": {
    "collapsed": false
   },
   "source": [
    "<span style='font-size:large'>**Zweite Aufgabe:**</span>\n",
    "\n",
    "<span style='font-size:medium'>Benutze das bereits vorhandene Objekt </span><span style='font-size:medium'>**marco**</span><span style='font-size:medium'> der Klasse </span><span style='font-size:medium'>**Student**</span><span style='font-size:medium'>. Die Definition der Klasse ist versteckt. Lass dir zuerst mithilfe des Attributs </span><span style='font-size:medium'>**\\_\\_dict\\_\\_**</span><span style='font-size:medium'>  alle Attribute von Marco ausgeben und schau sie dir an. Verbessere zuerst seinen Notenschnitt ein wenig. </span>\n",
    "\n",
    "<span style='font-size:medium'>Erstelle danach ein weiteres Objekt der Klasse </span><span style='font-size:medium'>**Student**</span><span style='font-size:medium'>. Benutze danach die Methode der Studentenklasse </span><span style='font-size:medium'>**add\\_freund\\(\\)**</span><span style='font-size:medium'> und adde dein Objekt zu Marcos Freunden. Schau dir danach die Liste seiner Freunde mit der Methode </span><span style='font-size:medium'>**get\\_freunde\\(\\)**</span><span style='font-size:medium'> an.</span>\n",
    "\n",
    "<span style='font-size:medium'>Extra: Finde einen zusätzlichen Weg seine Freunde anzuschauen, ohne die Methode </span><span style='font-size:medium'>**get\\_freunde\\(\\)**</span><span style='font-size:medium'> zu benutzen.</span>\n"
   ]
  },
  {
   "cell_type": "code",
   "execution_count": 24,
   "metadata": {
    "collapsed": false
   },
   "outputs": [
   ],
   "source": [
    "marco = Student(\"marco\",123456)"
   ]
  },
  {
   "cell_type": "code",
   "execution_count": 0,
   "metadata": {
    "collapsed": false
   },
   "outputs": [
   ],
   "source": [
    "#deine Lösung hier\n"
   ]
  },
  {
   "cell_type": "markdown",
   "metadata": {
    "collapsed": false
   },
   "source": [
    "<span style='font-size:large'>**Lösung:**</span>  \n",
    "\n"
   ]
  },
  {
   "cell_type": "code",
   "execution_count": 0,
   "metadata": {
    "collapsed": false,
    "jupyter": {
     "source_hidden": true
    }
   },
   "outputs": [
   ],
   "source": [
    "marco = Student(\"marco\",123456)\n",
    "finn = Student(\"finn\",333333)\n",
    "print(marco.__dict__)\n",
    "marco.notenschnitt = 1.0\n",
    "marco.add_freund(finn)\n",
    "print(marco.get_freunde())\n",
    "\n",
    "print(marco.freunde)"
   ]
  },
  {
   "cell_type": "markdown",
   "metadata": {
    "collapsed": false
   },
   "source": [
    "<span style='font-size:large'>**Dritte Aufgabe:**</span>\n",
    "\n",
    "<span style='font-size:medium'>Noch eine zweite Aufgabe zur Interaktion mit Klassen. Jetzt ein echtes Beispiel aus dem Leben eines Python\\-Programmiers, wir wollen Daten aus unserem Thermometer plotten. Diese Daten extrahierst du zuerst aus der Klasse </span><span style='font-size:medium'>**Thermometer**</span><span style='font-size:medium'> und der dazugehörigen Methode </span><span style='font-size:medium'>**get\\_temp\\_data\\(\\)**</span><span style='font-size:medium'>. Du kriegst sowohl Zeitdaten in Sekunden also auch Temperaturdaten in Grad Celsius.</span>\n",
    "\n",
    "<span style='font-size:medium'>In welcher Form sind die Daten? Sorge zuerst dafür, dass du zwei seperate Listen mit jeweils den Zeitdaten und den Temperaturdaten hast und speichere diese zwischen. Haben sie die gleiche Länge? Wenn nicht, dann füge der kürzeren Liste sooft den Zahlenwert 0 hinzu oder kürze die längere Liste, bis sie die gleiche Länge haben.</span>\n",
    "\n",
    "<span style='font-size:medium'>Benutze dann die Methode </span><span style='font-size:medium'>**scatter\\(x,y\\)**</span><span style='font-size:medium'> der Klasse </span><span style='font-size:medium'>**pyplot**</span><span style='font-size:medium'> um die Daten zu plotten. Die Methode erwartet zwei Listen. </span>  \n",
    "\n"
   ]
  },
  {
   "cell_type": "code",
   "execution_count": 65,
   "metadata": {
    "collapsed": false
   },
   "outputs": [
   ],
   "source": [
    "thermometer = Thermometer()"
   ]
  },
  {
   "cell_type": "code",
   "execution_count": 0,
   "metadata": {
    "collapsed": false
   },
   "outputs": [
   ],
   "source": [
    "#deine Lösung hier\n"
   ]
  },
  {
   "cell_type": "markdown",
   "metadata": {
    "collapsed": false
   },
   "source": [
    "<span style='font-size:large'>**Lösung:**</span>  \n",
    "\n"
   ]
  },
  {
   "cell_type": "code",
   "execution_count": 0,
   "metadata": {
    "collapsed": false,
    "editable": true,
    "jupyter": {
     "source_hidden": true
    }
   },
   "outputs": [
   ],
   "source": [
    "data = thermometer.get_temp_data()\n",
    "delta = len(data[0]) - len(data[1])\n",
    "for i in range(delta):\n",
    "    data[1].append(0)\n",
    "\n",
    "pyplot.scatter(data[0],data[1])\n",
    "pyplot.show()"
   ]
  },
  {
   "cell_type": "markdown",
   "metadata": {
    "collapsed": false
   },
   "source": [
    "<span style='font-size:large'>**Vierte Aufgabe:**</span>\n",
    "\n",
    "<span style='font-size:medium'>Wir schauen uns nun die Definition der Klasse </span><span style='font-size:medium'>**Student**</span><span style='font-size:medium'> an. Der Inhalt des Konstruktors wurde entfernt und du musst ihn wiederherstellen.</span>\n",
    "\n",
    "<span style='font-size:medium'>Die Klasse erhält wieder zwei Argumente, als erstes den Namen als String und als zweites die Matrikelnummer als Integer. Diese werden im Konstruktor zu Attributen des Objekts gesetzt. </span>\n"
   ]
  },
  {
   "cell_type": "code",
   "execution_count": 3,
   "metadata": {
    "collapsed": false
   },
   "outputs": [
    {
     "data": {
      "text/plain": [
       "15"
      ]
     },
     "execution_count": 3,
     "metadata": {
     },
     "output_type": "execute_result"
    }
   ],
   "source": [
    "zahl = int(15)\n",
    "zahl"
   ]
  },
  {
   "cell_type": "code",
   "execution_count": 0,
   "metadata": {
    "collapsed": false
   },
   "outputs": [
   ],
   "source": [
   ]
  },
  {
   "cell_type": "markdown",
   "metadata": {
    "collapsed": false
   },
   "source": [
    "<span style='font-size:large'>**Lösung:**</span>  \n",
    "\n"
   ]
  },
  {
   "cell_type": "code",
   "execution_count": 0,
   "metadata": {
    "collapsed": false,
    "jupyter": {
     "source_hidden": true
    }
   },
   "outputs": [
   ],
   "source": [
    "def rechner(operator, zahl1, zahl2):\n",
    "    if operator == \"+\":\n",
    "        print(zahl1 + zahl2)\n",
    "    elif operator == \"-\":\n",
    "        print(zahl1 - zahl2)\n",
    "    elif operator == \"*\":\n",
    "        print(zahl1 * zahl2)\n",
    "    elif operator == \"/\":\n",
    "        print(zahl1 / zahl2)\n",
    "    else:\n",
    "        print(\"falscher operator gegeben\")\n",
    "\n",
    "rechner(\"+\",1,3)"
   ]
  },
  {
   "cell_type": "markdown",
   "metadata": {
    "collapsed": false
   },
   "source": [
    "<span style='font-size:large'>**Fünfte Aufgabe:**</span>\n",
    "\n",
    "<span style='font-size:medium'>Wir wollen nun unsere erste eigene Klasse erstellen. Wir sind Webentwickler und wollen alle Eigenschaften unserer User in unserer Datenbank speichern ohne uns mit nervigen Listen\\-Datentypen auseinandersetzen zu müssen.</span>\n",
    "\n",
    "<span style='font-size:medium'>Erstelle also zuerst die Klasse </span><span style='font-size:medium'>**User**</span><span style='font-size:medium'>, diese soll drei Argumente nehmen: den Usernamen, die Email\\-Adresse und das Passwort. Speichere diese Argumente als Objektvariablen</span>\n"
   ]
  },
  {
   "cell_type": "code",
   "execution_count": 0,
   "metadata": {
    "collapsed": false
   },
   "outputs": [
   ],
   "source": [
   ]
  },
  {
   "cell_type": "markdown",
   "metadata": {
    "collapsed": false
   },
   "source": [
    "<span style='font-size:large'>**Lösung:**</span>  \n",
    "\n"
   ]
  },
  {
   "cell_type": "code",
   "execution_count": 0,
   "metadata": {
    "collapsed": false,
    "jupyter": {
     "source_hidden": true
    }
   },
   "outputs": [
   ],
   "source": [
    "def funktion1(string):\n",
    "    liste = string.split(\" \")\n",
    "    for el in liste:\n",
    "        print(el)\n",
    "def funktion2(string):\n",
    "    wort = \"\"\n",
    "    for el in string:\n",
    "        if el == \" \":\n",
    "            print(wort)\n",
    "            wort = \"\"\n",
    "        else:\n",
    "            wort += el"
   ]
  },
  {
   "cell_type": "markdown",
   "metadata": {
    "collapsed": false
   },
   "source": [
    "<span style='font-size:large'>**Fünfte Aufgabe:**</span>\n",
    "\n",
    "<span style='font-size:medium'>Schauen wir uns mal ein paar Fehler an die auftreten können. Definiere eine Funktion mit der lokalen Variable a. Was passiert, wenn man von außerhalb der Funktion auf a zugreift?</span>\n",
    "\n",
    "<span style='font-size:medium'>Definiere als nächstes eine Funktion mit drei int\\-Parametern aber übergebe nur zwei. Was passiert? Was hast du gelernt um das zu vermeiden? Implementiere eine solche Lösung. Diese Funktion errechnet das Volumen eines n\\-dimensionalen Würfels und printet das Ergebnis.</span>\n",
    "\n",
    "<span style='font-size:medium'>Überprüfe das Verhalten der Funktion indem du sie aufrufst.</span>\n",
    "\n"
   ]
  },
  {
   "cell_type": "code",
   "execution_count": 0,
   "metadata": {
    "collapsed": false
   },
   "outputs": [
   ],
   "source": [
   ]
  },
  {
   "cell_type": "markdown",
   "metadata": {
    "collapsed": false
   },
   "source": [
    "<span style='font-size:large'>**Lösung:**</span>  \n",
    "\n"
   ]
  },
  {
   "cell_type": "code",
   "execution_count": 0,
   "metadata": {
    "collapsed": false,
    "jupyter": {
     "source_hidden": true
    }
   },
   "outputs": [
   ],
   "source": [
    "def f():\n",
    "    a = 5\n",
    "print(a)\n",
    "\n",
    "def vol_nDim(*dimensionen):\n",
    "    vol = 1\n",
    "    for dim in dimensionen:\n",
    "        vol *= dim\n",
    "    print(vol)"
   ]
  }
 ],
 "metadata": {
  "kernelspec": {
   "display_name": "Python 3 (SageMath)",
   "language": "python",
   "name": "python3-sage",
   "resource_dir": "/usr/local/share/jupyter/kernels/python3-sage"
  },
  "language_info": {
   "codemirror_mode": {
    "name": "ipython",
    "version": 3
   },
   "file_extension": ".py",
   "mimetype": "text/x-python",
   "name": "python",
   "nbconvert_exporter": "python",
   "pygments_lexer": "ipython3",
   "version": "3.8.10"
  }
 },
 "nbformat": 4,
 "nbformat_minor": 4
}